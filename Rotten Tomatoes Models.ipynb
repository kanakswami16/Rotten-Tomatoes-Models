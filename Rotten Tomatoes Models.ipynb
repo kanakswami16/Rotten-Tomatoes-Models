{
 "cells": [
  {
   "cell_type": "code",
   "execution_count": 160,
   "metadata": {},
   "outputs": [],
   "source": [
    "import pandas as pd\n",
    "import matplotlib.pyplot as plt\n",
    "import seaborn as sns\n",
    "from sklearn.preprocessing import LabelEncoder\n",
    "from sklearn.model_selection import train_test_split\n",
    "from sklearn.tree import DecisionTreeRegressor\n",
    "from sklearn.linear_model import LinearRegression\n",
    "from sklearn.ensemble import RandomForestRegressor\n",
    "from sklearn.metrics import mean_squared_error, r2_score\n",
    "from sklearn.ensemble import GradientBoostingRegressor\n",
    "\n",
    "import warnings\n",
    "warnings.filterwarnings('ignore')"
   ]
  },
  {
   "cell_type": "code",
   "execution_count": 2,
   "metadata": {},
   "outputs": [
    {
     "data": {
      "text/html": [
       "<div>\n",
       "<style scoped>\n",
       "    .dataframe tbody tr th:only-of-type {\n",
       "        vertical-align: middle;\n",
       "    }\n",
       "\n",
       "    .dataframe tbody tr th {\n",
       "        vertical-align: top;\n",
       "    }\n",
       "\n",
       "    .dataframe thead th {\n",
       "        text-align: right;\n",
       "    }\n",
       "</style>\n",
       "<table border=\"1\" class=\"dataframe\">\n",
       "  <thead>\n",
       "    <tr style=\"text-align: right;\">\n",
       "      <th></th>\n",
       "      <th>movie_title</th>\n",
       "      <th>movie_info</th>\n",
       "      <th>critics_consensus</th>\n",
       "      <th>rating</th>\n",
       "      <th>genre</th>\n",
       "      <th>directors</th>\n",
       "      <th>writers</th>\n",
       "      <th>cast</th>\n",
       "      <th>in_theaters_date</th>\n",
       "      <th>on_streaming_date</th>\n",
       "      <th>runtime_in_minutes</th>\n",
       "      <th>studio_name</th>\n",
       "      <th>tomatometer_status</th>\n",
       "      <th>tomatometer_rating</th>\n",
       "      <th>tomatometer_count</th>\n",
       "      <th>audience_rating</th>\n",
       "    </tr>\n",
       "  </thead>\n",
       "  <tbody>\n",
       "    <tr>\n",
       "      <th>0</th>\n",
       "      <td>Percy Jackson &amp; the Olympians: The Lightning T...</td>\n",
       "      <td>A teenager discovers he's the descendant of a ...</td>\n",
       "      <td>Though it may seem like just another Harry Pot...</td>\n",
       "      <td>PG</td>\n",
       "      <td>Action &amp; Adventure, Comedy, Drama, Science Fic...</td>\n",
       "      <td>Chris Columbus</td>\n",
       "      <td>Craig Titley</td>\n",
       "      <td>Logan Lerman, Brandon T. Jackson, Alexandra Da...</td>\n",
       "      <td>2010-02-12</td>\n",
       "      <td>2010-06-29</td>\n",
       "      <td>83.0</td>\n",
       "      <td>20th Century Fox</td>\n",
       "      <td>Rotten</td>\n",
       "      <td>49</td>\n",
       "      <td>144</td>\n",
       "      <td>53.0</td>\n",
       "    </tr>\n",
       "  </tbody>\n",
       "</table>\n",
       "</div>"
      ],
      "text/plain": [
       "                                         movie_title  \\\n",
       "0  Percy Jackson & the Olympians: The Lightning T...   \n",
       "\n",
       "                                          movie_info  \\\n",
       "0  A teenager discovers he's the descendant of a ...   \n",
       "\n",
       "                                   critics_consensus rating  \\\n",
       "0  Though it may seem like just another Harry Pot...     PG   \n",
       "\n",
       "                                               genre       directors  \\\n",
       "0  Action & Adventure, Comedy, Drama, Science Fic...  Chris Columbus   \n",
       "\n",
       "        writers                                               cast  \\\n",
       "0  Craig Titley  Logan Lerman, Brandon T. Jackson, Alexandra Da...   \n",
       "\n",
       "  in_theaters_date on_streaming_date  runtime_in_minutes       studio_name  \\\n",
       "0       2010-02-12        2010-06-29                83.0  20th Century Fox   \n",
       "\n",
       "  tomatometer_status  tomatometer_rating  tomatometer_count  audience_rating  \n",
       "0             Rotten                  49                144             53.0  "
      ]
     },
     "execution_count": 2,
     "metadata": {},
     "output_type": "execute_result"
    }
   ],
   "source": [
    "df=pd.read_excel(\"Rotten_Tomatoes_Movies3.xls\")\n",
    "df.head(1)"
   ]
  },
  {
   "cell_type": "code",
   "execution_count": 5,
   "metadata": {},
   "outputs": [
    {
     "data": {
      "text/plain": [
       "movie_title              0\n",
       "movie_info              24\n",
       "critics_consensus     8329\n",
       "rating                   0\n",
       "genre                   17\n",
       "directors              114\n",
       "writers               1349\n",
       "cast                   284\n",
       "in_theaters_date       815\n",
       "on_streaming_date        2\n",
       "runtime_in_minutes     155\n",
       "studio_name            416\n",
       "tomatometer_status       0\n",
       "tomatometer_rating       0\n",
       "tomatometer_count        0\n",
       "audience_rating        252\n",
       "dtype: int64"
      ]
     },
     "execution_count": 5,
     "metadata": {},
     "output_type": "execute_result"
    }
   ],
   "source": [
    "df.isnull().sum()"
   ]
  },
  {
   "cell_type": "code",
   "execution_count": 6,
   "metadata": {},
   "outputs": [
    {
     "name": "stdout",
     "output_type": "stream",
     "text": [
      "<class 'pandas.core.frame.DataFrame'>\n",
      "RangeIndex: 16638 entries, 0 to 16637\n",
      "Data columns (total 16 columns):\n",
      " #   Column              Non-Null Count  Dtype         \n",
      "---  ------              --------------  -----         \n",
      " 0   movie_title         16638 non-null  object        \n",
      " 1   movie_info          16614 non-null  object        \n",
      " 2   critics_consensus   8309 non-null   object        \n",
      " 3   rating              16638 non-null  object        \n",
      " 4   genre               16621 non-null  object        \n",
      " 5   directors           16524 non-null  object        \n",
      " 6   writers             15289 non-null  object        \n",
      " 7   cast                16354 non-null  object        \n",
      " 8   in_theaters_date    15823 non-null  datetime64[ns]\n",
      " 9   on_streaming_date   16636 non-null  datetime64[ns]\n",
      " 10  runtime_in_minutes  16483 non-null  float64       \n",
      " 11  studio_name         16222 non-null  object        \n",
      " 12  tomatometer_status  16638 non-null  object        \n",
      " 13  tomatometer_rating  16638 non-null  int64         \n",
      " 14  tomatometer_count   16638 non-null  int64         \n",
      " 15  audience_rating     16386 non-null  float64       \n",
      "dtypes: datetime64[ns](2), float64(2), int64(2), object(10)\n",
      "memory usage: 2.0+ MB\n"
     ]
    }
   ],
   "source": [
    "df.info()"
   ]
  },
  {
   "cell_type": "code",
   "execution_count": 7,
   "metadata": {},
   "outputs": [
    {
     "data": {
      "text/html": [
       "<div>\n",
       "<style scoped>\n",
       "    .dataframe tbody tr th:only-of-type {\n",
       "        vertical-align: middle;\n",
       "    }\n",
       "\n",
       "    .dataframe tbody tr th {\n",
       "        vertical-align: top;\n",
       "    }\n",
       "\n",
       "    .dataframe thead th {\n",
       "        text-align: right;\n",
       "    }\n",
       "</style>\n",
       "<table border=\"1\" class=\"dataframe\">\n",
       "  <thead>\n",
       "    <tr style=\"text-align: right;\">\n",
       "      <th></th>\n",
       "      <th>in_theaters_date</th>\n",
       "      <th>on_streaming_date</th>\n",
       "      <th>runtime_in_minutes</th>\n",
       "      <th>tomatometer_rating</th>\n",
       "      <th>tomatometer_count</th>\n",
       "      <th>audience_rating</th>\n",
       "    </tr>\n",
       "  </thead>\n",
       "  <tbody>\n",
       "    <tr>\n",
       "      <th>count</th>\n",
       "      <td>15823</td>\n",
       "      <td>16636</td>\n",
       "      <td>16483.000000</td>\n",
       "      <td>16638.000000</td>\n",
       "      <td>16638.000000</td>\n",
       "      <td>16386.000000</td>\n",
       "    </tr>\n",
       "    <tr>\n",
       "      <th>mean</th>\n",
       "      <td>1999-10-24 22:10:52.973519488</td>\n",
       "      <td>2008-08-13 13:35:49.266650624</td>\n",
       "      <td>102.391494</td>\n",
       "      <td>60.466522</td>\n",
       "      <td>56.607104</td>\n",
       "      <td>60.470829</td>\n",
       "    </tr>\n",
       "    <tr>\n",
       "      <th>min</th>\n",
       "      <td>1914-06-01 00:00:00</td>\n",
       "      <td>1935-06-06 00:00:00</td>\n",
       "      <td>1.000000</td>\n",
       "      <td>0.000000</td>\n",
       "      <td>5.000000</td>\n",
       "      <td>0.000000</td>\n",
       "    </tr>\n",
       "    <tr>\n",
       "      <th>25%</th>\n",
       "      <td>1993-03-29 00:00:00</td>\n",
       "      <td>2003-01-28 00:00:00</td>\n",
       "      <td>90.000000</td>\n",
       "      <td>38.000000</td>\n",
       "      <td>12.000000</td>\n",
       "      <td>45.000000</td>\n",
       "    </tr>\n",
       "    <tr>\n",
       "      <th>50%</th>\n",
       "      <td>2006-08-04 00:00:00</td>\n",
       "      <td>2008-04-08 00:00:00</td>\n",
       "      <td>99.000000</td>\n",
       "      <td>66.000000</td>\n",
       "      <td>28.000000</td>\n",
       "      <td>62.000000</td>\n",
       "    </tr>\n",
       "    <tr>\n",
       "      <th>75%</th>\n",
       "      <td>2013-06-28 00:00:00</td>\n",
       "      <td>2014-05-12 00:00:00</td>\n",
       "      <td>111.000000</td>\n",
       "      <td>86.000000</td>\n",
       "      <td>76.000000</td>\n",
       "      <td>77.000000</td>\n",
       "    </tr>\n",
       "    <tr>\n",
       "      <th>max</th>\n",
       "      <td>2019-12-07 00:00:00</td>\n",
       "      <td>2019-11-01 00:00:00</td>\n",
       "      <td>2000.000000</td>\n",
       "      <td>100.000000</td>\n",
       "      <td>497.000000</td>\n",
       "      <td>100.000000</td>\n",
       "    </tr>\n",
       "    <tr>\n",
       "      <th>std</th>\n",
       "      <td>NaN</td>\n",
       "      <td>NaN</td>\n",
       "      <td>25.028011</td>\n",
       "      <td>28.587230</td>\n",
       "      <td>66.383800</td>\n",
       "      <td>20.462368</td>\n",
       "    </tr>\n",
       "  </tbody>\n",
       "</table>\n",
       "</div>"
      ],
      "text/plain": [
       "                    in_theaters_date              on_streaming_date  \\\n",
       "count                          15823                          16636   \n",
       "mean   1999-10-24 22:10:52.973519488  2008-08-13 13:35:49.266650624   \n",
       "min              1914-06-01 00:00:00            1935-06-06 00:00:00   \n",
       "25%              1993-03-29 00:00:00            2003-01-28 00:00:00   \n",
       "50%              2006-08-04 00:00:00            2008-04-08 00:00:00   \n",
       "75%              2013-06-28 00:00:00            2014-05-12 00:00:00   \n",
       "max              2019-12-07 00:00:00            2019-11-01 00:00:00   \n",
       "std                              NaN                            NaN   \n",
       "\n",
       "       runtime_in_minutes  tomatometer_rating  tomatometer_count  \\\n",
       "count        16483.000000        16638.000000       16638.000000   \n",
       "mean           102.391494           60.466522          56.607104   \n",
       "min              1.000000            0.000000           5.000000   \n",
       "25%             90.000000           38.000000          12.000000   \n",
       "50%             99.000000           66.000000          28.000000   \n",
       "75%            111.000000           86.000000          76.000000   \n",
       "max           2000.000000          100.000000         497.000000   \n",
       "std             25.028011           28.587230          66.383800   \n",
       "\n",
       "       audience_rating  \n",
       "count     16386.000000  \n",
       "mean         60.470829  \n",
       "min           0.000000  \n",
       "25%          45.000000  \n",
       "50%          62.000000  \n",
       "75%          77.000000  \n",
       "max         100.000000  \n",
       "std          20.462368  "
      ]
     },
     "execution_count": 7,
     "metadata": {},
     "output_type": "execute_result"
    }
   ],
   "source": [
    "df.describe()"
   ]
  },
  {
   "cell_type": "markdown",
   "metadata": {},
   "source": [
    "Convert date to numeric (timestamps)"
   ]
  },
  {
   "cell_type": "code",
   "execution_count": 48,
   "metadata": {},
   "outputs": [],
   "source": [
    "df['on_streaming_date'] = pd.to_datetime(df['on_streaming_date'])\n",
    "df['on_streaming_date'] = df['on_streaming_date'].astype('int64') // 10**9 \n",
    "\n",
    "df['in_theaters_date'] = pd.to_datetime(df['in_theaters_date'])\n",
    "df['in_theaters_date'] = df['in_theaters_date'].astype('int64') // 10**9  "
   ]
  },
  {
   "cell_type": "markdown",
   "metadata": {},
   "source": [
    "Used the One Hot Encoding"
   ]
  },
  {
   "cell_type": "code",
   "execution_count": 9,
   "metadata": {},
   "outputs": [],
   "source": [
    "categorical_columns=[\"movie_info\",\"critics_consensus\",\"genre\",\"directors\",\"writers\",\"cast\",\"studio_name\"]\n",
    "for column in categorical_columns:\n",
    "    df[column].fillna(df[column].mode()[0],inplace=True)\n",
    "    \n",
    "numeric_columns=[\"audience_rating\",\"runtime_in_minutes\",\"on_streaming_date\",\"in_theaters_date\"]\n",
    "for columns in numeric_columns:\n",
    "    df[columns].fillna(df[columns].median(),inplace=True)"
   ]
  },
  {
   "cell_type": "code",
   "execution_count": 10,
   "metadata": {},
   "outputs": [
    {
     "data": {
      "text/plain": [
       "movie_title           0\n",
       "movie_info            0\n",
       "critics_consensus     0\n",
       "rating                0\n",
       "genre                 0\n",
       "directors             0\n",
       "writers               0\n",
       "cast                  0\n",
       "in_theaters_date      0\n",
       "on_streaming_date     0\n",
       "runtime_in_minutes    0\n",
       "studio_name           0\n",
       "tomatometer_status    0\n",
       "tomatometer_rating    0\n",
       "tomatometer_count     0\n",
       "audience_rating       0\n",
       "dtype: int64"
      ]
     },
     "execution_count": 10,
     "metadata": {},
     "output_type": "execute_result"
    }
   ],
   "source": [
    "df.isnull().sum()"
   ]
  },
  {
   "cell_type": "markdown",
   "metadata": {},
   "source": [
    "See the Outliers with the help of histogram"
   ]
  },
  {
   "cell_type": "code",
   "execution_count": 17,
   "metadata": {},
   "outputs": [
    {
     "data": {
      "image/png": "[encoded data removed]",
      "text/plain": [
       "<Figure size 640x480 with 1 Axes>"
      ]
     },
     "metadata": {},
     "output_type": "display_data"
    },
    {
     "data": {
      "image/png": "[encoded data removed]",
      "text/plain": [
       "<Figure size 640x480 with 1 Axes>"
      ]
     },
     "metadata": {},
     "output_type": "display_data"
    },
    {
     "data": {
      "image/png": "[encoded data removed]",
      "text/plain": [
       "<Figure size 640x480 with 1 Axes>"
      ]
     },
     "metadata": {},
     "output_type": "display_data"
    }
   ],
   "source": [
    "sns.boxplot(x=\"in_theaters_date\",data=df)\n",
    "plt.show()\n",
    "\n",
    "sns.boxplot(x=\"tomatometer_count\",data=df)\n",
    "plt.show()\n",
    "\n",
    "sns.boxplot(x=\"runtime_in_minutes\",data=df)\n",
    "plt.show()\n"
   ]
  },
  {
   "cell_type": "markdown",
   "metadata": {},
   "source": [
    "Used the IQR method for removing the outliers"
   ]
  },
  {
   "cell_type": "code",
   "execution_count": 18,
   "metadata": {},
   "outputs": [],
   "source": [
    "Q1_dictance=df[\"in_theaters_date\"].quantile(0.25)\n",
    "Q3_dictance=df[\"in_theaters_date\"].quantile(0.75)\n",
    "IQR=Q3_dictance-Q1_dictance\n",
    "\n",
    "lower_bound=Q1_dictance-1.5*IQR\n",
    "upper_bound=Q3_dictance+1.5*IQR\n",
    "\n",
    "outliers=df[(df['in_theaters_date'] > upper_bound) | (df['in_theaters_date'] < lower_bound)]"
   ]
  },
  {
   "cell_type": "code",
   "execution_count": 19,
   "metadata": {},
   "outputs": [],
   "source": [
    "Q1_dictance=df[\"tomatometer_count\"].quantile(0.25)\n",
    "Q3_dictance=df[\"tomatometer_count\"].quantile(0.75)\n",
    "IQR=Q3_dictance-Q1_dictance\n",
    "\n",
    "lower_bound=Q1_dictance-1.5*IQR\n",
    "upper_bound=Q3_dictance+1.5*IQR\n",
    "\n",
    "outliers=df[(df['tomatometer_count'] > upper_bound) | (df['tomatometer_count'] < lower_bound)]"
   ]
  },
  {
   "cell_type": "code",
   "execution_count": 20,
   "metadata": {},
   "outputs": [],
   "source": [
    "Q1_dictance=df[\"runtime_in_minutes\"].quantile(0.25)\n",
    "Q3_dictance=df[\"runtime_in_minutes\"].quantile(0.75)\n",
    "IQR=Q3_dictance-Q1_dictance\n",
    "\n",
    "lower_bound=Q1_dictance-1.5*IQR\n",
    "upper_bound=Q3_dictance+1.5*IQR\n",
    "\n",
    "# outliers=df[df['runtime_in_minutes'] > upper_bound]\n",
    "# outliers=df[(df['runtime_in_minutes'] < lower_bound)]\n",
    "outliers = df[(df['runtime_in_minutes'] > upper_bound) | (df['runtime_in_minutes'] < lower_bound)]\n",
    "\n"
   ]
  },
  {
   "cell_type": "code",
   "execution_count": 21,
   "metadata": {},
   "outputs": [
    {
     "data": {
      "image/png": "[encoded data removed]",
      "text/plain": [
       "<Figure size 640x480 with 1 Axes>"
      ]
     },
     "metadata": {},
     "output_type": "display_data"
    },
    {
     "data": {
      "image/png": "[encoded data removed]",
      "text/plain": [
       "<Figure size 640x480 with 1 Axes>"
      ]
     },
     "metadata": {},
     "output_type": "display_data"
    },
    {
     "data": {
      "image/png": "[encoded data removed]",
      "text/plain": [
       "<Figure size 640x480 with 1 Axes>"
      ]
     },
     "metadata": {},
     "output_type": "display_data"
    }
   ],
   "source": [
    "sns.boxplot(x=\"in_theaters_date\",data=outliers)\n",
    "plt.show()\n",
    "\n",
    "sns.boxplot(x=\"tomatometer_count\",data=outliers)\n",
    "plt.show()\n",
    "\n",
    "sns.boxplot(x=\"runtime_in_minutes\",data=outliers)\n",
    "plt.show()"
   ]
  },
  {
   "cell_type": "markdown",
   "metadata": {},
   "source": [
    "Replaces outliers in the columns"
   ]
  },
  {
   "cell_type": "code",
   "execution_count": 22,
   "metadata": {},
   "outputs": [
    {
     "data": {
      "text/plain": [
       "count    16638.000000\n",
       "mean       130.428597\n",
       "std         29.467461\n",
       "min         58.500000\n",
       "25%        142.500000\n",
       "50%        142.500000\n",
       "75%        142.500000\n",
       "max        142.500000\n",
       "Name: in_theaters_date, dtype: float64"
      ]
     },
     "execution_count": 22,
     "metadata": {},
     "output_type": "execute_result"
    }
   ],
   "source": [
    "df[\"in_theaters_date\"]=df[\"in_theaters_date\"].clip(lower=lower_bound,upper=upper_bound)\n",
    "df[\"in_theaters_date\"].describe()"
   ]
  },
  {
   "cell_type": "code",
   "execution_count": 24,
   "metadata": {},
   "outputs": [
    {
     "data": {
      "text/plain": [
       "count    16638.000000\n",
       "mean        75.255079\n",
       "std         30.184801\n",
       "min         58.500000\n",
       "25%         58.500000\n",
       "50%         58.500000\n",
       "75%         76.000000\n",
       "max        142.500000\n",
       "Name: tomatometer_count, dtype: float64"
      ]
     },
     "execution_count": 24,
     "metadata": {},
     "output_type": "execute_result"
    }
   ],
   "source": [
    "df[\"tomatometer_count\"]=df[\"tomatometer_count\"].clip(lower=lower_bound,upper=upper_bound)\n",
    "df[\"tomatometer_count\"].describe()"
   ]
  },
  {
   "cell_type": "code",
   "execution_count": 23,
   "metadata": {},
   "outputs": [
    {
     "data": {
      "text/plain": [
       "count    16638.000000\n",
       "mean       101.617833\n",
       "std         16.559522\n",
       "min         58.500000\n",
       "25%         90.000000\n",
       "50%         99.000000\n",
       "75%        111.000000\n",
       "max        142.500000\n",
       "Name: runtime_in_minutes, dtype: float64"
      ]
     },
     "execution_count": 23,
     "metadata": {},
     "output_type": "execute_result"
    }
   ],
   "source": [
    "df[\"runtime_in_minutes\"]=df[\"runtime_in_minutes\"].clip(lower=lower_bound,upper=upper_bound)\n",
    "df[\"runtime_in_minutes\"].describe()"
   ]
  },
  {
   "cell_type": "code",
   "execution_count": 158,
   "metadata": {},
   "outputs": [
    {
     "data": {
      "text/plain": [
       "movie_title\n",
       "5623     5\n",
       "5253     5\n",
       "9984     4\n",
       "4947     4\n",
       "14315    4\n",
       "        ..\n",
       "12465    1\n",
       "4081     1\n",
       "4082     1\n",
       "12466    1\n",
       "16091    1\n",
       "Name: count, Length: 16106, dtype: int64"
      ]
     },
     "execution_count": 158,
     "metadata": {},
     "output_type": "execute_result"
    }
   ],
   "source": [
    "df['movie_title'].apply(str).value_counts()"
   ]
  },
  {
   "cell_type": "code",
   "execution_count": 159,
   "metadata": {},
   "outputs": [
    {
     "data": {
      "text/plain": [
       "rating\n",
       "R         6136\n",
       "NR        4862\n",
       "PG-13     2885\n",
       "PG        2062\n",
       "G          652\n",
       "NC17        37\n",
       "PG-13)       3\n",
       "R)           1\n",
       "Name: count, dtype: int64"
      ]
     },
     "execution_count": 159,
     "metadata": {},
     "output_type": "execute_result"
    }
   ],
   "source": [
    "df['rating'].apply(str).value_counts()\n"
   ]
  },
  {
   "cell_type": "code",
   "execution_count": 177,
   "metadata": {},
   "outputs": [
    {
     "data": {
      "text/plain": [
       "tomatometer_status\n",
       "2    7233\n",
       "1    6448\n",
       "0    2957\n",
       "Name: count, dtype: int64"
      ]
     },
     "execution_count": 177,
     "metadata": {},
     "output_type": "execute_result"
    }
   ],
   "source": [
    "df['tomatometer_status'].apply(str).value_counts()\n"
   ]
  },
  {
   "cell_type": "markdown",
   "metadata": {},
   "source": [
    "Used the Label Encoding"
   ]
  },
  {
   "cell_type": "code",
   "execution_count": 178,
   "metadata": {},
   "outputs": [],
   "source": [
    "label_encoders={}\n",
    "\n",
    "categorical_culomns=df.select_dtypes(include=[\"object\"]).columns\n",
    "\n",
    "for column in categorical_columns:\n",
    "    org_values=df[column].unique()\n",
    "    \n",
    "    df[column] = df[column].astype(str)\n",
    "\n",
    "    label_encoders[column]=LabelEncoder()\n",
    "    df[column] = label_encoders[column].fit_transform(df[column])"
   ]
  },
  {
   "cell_type": "code",
   "execution_count": 179,
   "metadata": {},
   "outputs": [],
   "source": [
    "label_encoder = LabelEncoder()\n",
    "df['rating'] = label_encoder.fit_transform(df['rating'])"
   ]
  },
  {
   "cell_type": "code",
   "execution_count": 193,
   "metadata": {},
   "outputs": [],
   "source": [
    "x=df.iloc[:,:-1]\n",
    "y=df[\"audience_rating\"]"
   ]
  },
  {
   "cell_type": "code",
   "execution_count": 194,
   "metadata": {},
   "outputs": [],
   "source": [
    "x_train,x_test,y_train,y_test=train_test_split(x,y,test_size=0.2,random_state=42)"
   ]
  },
  {
   "cell_type": "markdown",
   "metadata": {},
   "source": [
    "Used the Regression algorithm for best predication"
   ]
  },
  {
   "cell_type": "code",
   "execution_count": 195,
   "metadata": {},
   "outputs": [
    {
     "name": "stdout",
     "output_type": "stream",
     "text": [
      "mean squared error: 219.99125093189028\n",
      "r2 score: 0.46075444239351293\n"
     ]
    }
   ],
   "source": [
    "model=LinearRegression()\n",
    "model.fit(x_train,y_train)\n",
    "y_pred=model.predict(x_test)\n",
    "\n",
    "linear_mse=mean_squared_error(y_test,y_pred)\n",
    "linear_r2=r2_score(y_test,y_pred)\n",
    "\n",
    "print(f\"mean squared error: {linear_mse}\")\n",
    "print(f\"r2 score: {linear_r2}\")"
   ]
  },
  {
   "cell_type": "code",
   "execution_count": 205,
   "metadata": {},
   "outputs": [
    {
     "name": "stdout",
     "output_type": "stream",
     "text": [
      "mean squared error: 341.1224648046096\n",
      "r2 score: 0.16383595726444655\n"
     ]
    }
   ],
   "source": [
    "tree_model=DecisionTreeRegressor(min_samples_split=10, min_samples_leaf=5)\n",
    "tree_model.fit(x_train,y_train)\n",
    "\n",
    "y_pred_tree=tree_model.predict(x_test)\n",
    "\n",
    "tree_mse=mean_squared_error(y_test,y_pred_tree)\n",
    "tree_r2=r2_score(y_test,y_pred_tree)\n",
    "\n",
    "print(f\"mean squared error: {tree_mse}\")\n",
    "print(f\"r2 score: {tree_r2}\")"
   ]
  },
  {
   "cell_type": "code",
   "execution_count": 203,
   "metadata": {},
   "outputs": [
    {
     "name": "stdout",
     "output_type": "stream",
     "text": [
      "mean squared error:218.62556538461538\n",
      "r2 score:0.4641020294513427\n"
     ]
    }
   ],
   "source": [
    "rf_model=RandomForestRegressor(n_estimators=100,random_state=42)\n",
    "rf_model.fit(x_train,y_train)\n",
    "\n",
    "y_pred_rf=rf_model.predict(x_test)\n",
    "\n",
    "rf_mse=mean_squared_error(y_test,y_pred_rf)\n",
    "rf_r2=r2_score(y_test,y_pred_rf)\n",
    "\n",
    "print(f\"mean squared error:{rf_mse}\")\n",
    "print(f\"r2 score:{rf_r2}\")"
   ]
  },
  {
   "cell_type": "code",
   "execution_count": 208,
   "metadata": {},
   "outputs": [
    {
     "name": "stdout",
     "output_type": "stream",
     "text": [
      "mean squared error:205.83362790906722\n",
      "r2 score:0.4954578012270344\n"
     ]
    }
   ],
   "source": [
    "gb_model=GradientBoostingRegressor()\n",
    "gb_model.fit(x_train, y_train)\n",
    "y_pred_gb=gb_model.predict(x_test)\n",
    "\n",
    "gb_mse=mean_squared_error(y_test,y_pred_gb)\n",
    "gb_r2=r2_score(y_test,y_pred_gb)\n",
    "\n",
    "print(f\"mean squared error:{gb_mse}\")\n",
    "print(f\"r2 score:{gb_r2}\")\n"
   ]
  },
  {
   "cell_type": "markdown",
   "metadata": {},
   "source": [
    "Scores of Mean Squared Error and R2 Score"
   ]
  },
  {
   "cell_type": "code",
   "execution_count": 210,
   "metadata": {},
   "outputs": [
    {
     "name": "stdout",
     "output_type": "stream",
     "text": [
      "               Model         MSE      R^2 \n",
      "0      Random Forest  219.991251  0.460754\n",
      "1  Linear Regression  341.122465  0.163836\n",
      "2      Decision Tree  205.833628  0.495458\n",
      "3  Gradient Boosting  218.625565  0.464102\n"
     ]
    }
   ],
   "source": [
    "models = [ 'Random Forest','Linear Regression','Decision Tree',\"Gradient Boosting\"]\n",
    "mse_scores = [linear_mse,tree_mse,gb_mse,rf_mse]\n",
    "r2_scores = [linear_r2,tree_r2,gb_r2,rf_r2]\n",
    "\n",
    "results_df = pd.DataFrame({\n",
    "    'Model': models,\n",
    "    'MSE': mse_scores,\n",
    "    'R^2 ': r2_scores\n",
    "})\n",
    "print(results_df)"
   ]
  },
  {
   "cell_type": "markdown",
   "metadata": {},
   "source": [
    "Best Model for Prediction is Decision Tree:It has the lowest MSE and the highest R², meaning it is both accurate (low error) and has the best ability to explain the variance in the target (mall rating)."
   ]
  }
 ],
 "metadata": {
  "kernelspec": {
   "display_name": "Python 3",
   "language": "python",
   "name": "python3"
  },
  "language_info": {
   "codemirror_mode": {
    "name": "ipython",
    "version": 3
   },
   "file_extension": ".py",
   "mimetype": "text/x-python",
   "name": "python",
   "nbconvert_exporter": "python",
   "pygments_lexer": "ipython3",
   "version": "3.12.5"
  }
 },
 "nbformat": 4,
 "nbformat_minor": 2
}
